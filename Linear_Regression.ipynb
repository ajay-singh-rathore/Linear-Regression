{
  "nbformat": 4,
  "nbformat_minor": 0,
  "metadata": {
    "colab": {
      "provenance": [],
      "collapsed_sections": [],
      "include_colab_link": true
    },
    "kernelspec": {
      "name": "python3",
      "display_name": "Python 3"
    },
    "language_info": {
      "name": "python"
    }
  },
  "cells": [
    {
      "cell_type": "markdown",
      "metadata": {
        "id": "view-in-github",
        "colab_type": "text"
      },
      "source": [
        "<a href=\"https://colab.research.google.com/github/ajay-singh-rathore/Linear-Regression/blob/main/Linear_Regression.ipynb\" target=\"_parent\"><img src=\"https://colab.research.google.com/assets/colab-badge.svg\" alt=\"Open In Colab\"/></a>"
      ]
    },
    {
      "cell_type": "code",
      "execution_count": null,
      "metadata": {
        "id": "ERoq7BHAUrej"
      },
      "outputs": [],
      "source": [
        "import numpy as np\n",
        "from sklearn import linear_model\n",
        "from sklearn.metrics import mean_squared_error"
      ]
    },
    {
      "cell_type": "code",
      "source": [
        "  db_x=np.array([[1], [2], [3]])\n",
        "  db_x_train=db_x\n",
        "  db_x_test=db_x"
      ],
      "metadata": {
        "id": "dWRCqaDiVsLG"
      },
      "execution_count": null,
      "outputs": []
    },
    {
      "cell_type": "code",
      "source": [
        "db_y_train=np.array([4, 3, 5])\n",
        "db_y_test=np.array([4, 3, 5])"
      ],
      "metadata": {
        "id": "bO7akAKJWcBU"
      },
      "execution_count": null,
      "outputs": []
    },
    {
      "cell_type": "code",
      "source": [
        "model=linear_model.LinearRegression()\n",
        "model.fit(db_x_train,db_y_train)\n",
        "db_y_predicted=model.predict(db_x_test)"
      ],
      "metadata": {
        "id": "KrVd5xsMW8dj"
      },
      "execution_count": null,
      "outputs": []
    },
    {
      "cell_type": "code",
      "source": [
        "print(\"MSEis:\",mean_squared_error(db_y_test,db_y_predicted))\n",
        "print(\"Weight:\",model.coef_)\n",
        "print(\"intercept:\",model.intercept_)"
      ],
      "metadata": {
        "colab": {
          "base_uri": "https://localhost:8080/"
        },
        "id": "qfCM5gV7YFnS",
        "outputId": "52016adf-ec06-4d4f-c2d9-c57662d4ebd7"
      },
      "execution_count": null,
      "outputs": [
        {
          "output_type": "stream",
          "name": "stdout",
          "text": [
            "MSEis: 0.5\n",
            "Weight: [0.5]\n",
            "intercept: 3.0\n"
          ]
        }
      ]
    },
    {
      "cell_type": "markdown",
      "source": [],
      "metadata": {
        "id": "pRXy6VOXvufF"
      }
    },
    {
      "cell_type": "code",
      "source": [
        "import matplotlib.pyplot as plt\n",
        "import numpy as np\n",
        "from sklearn import datasets, linear_model\n",
        "from sklearn.metrics import mean_squared_error\n",
        "db=datasets.load_diabetes()\n",
        "#print(db.target)\n",
        "db_x=db.data[:,np.newaxis,2]\n",
        "#db_x=db.data\n",
        "#print(db_x)\n",
        "db_x_train=db_x[:-50]\n",
        "db_x_test=db_x[-50:]\n",
        "db_y_train=db.target[:-50]\n",
        "db_y_test=db.target[-50:]\n",
        "model=linear_model.LinearRegression()\n",
        "model.fit(db_x_train,db_y_train)\n",
        "db_y_predicted=model.predict(db_x_test)\n",
        "print(\"MSEis:\",mean_squared_error(db_y_test,db_y_predicted))\n",
        "print(\"Weight:\",model.coef_)\n",
        "print(\"Intercept:\",model.intercept_)\n",
        "plt.scatter(db_x_test,db_y_test)\n",
        "plt.plot(db_x_test,db_y_predicted)\n",
        "plt.show()"
      ],
      "metadata": {
        "colab": {
          "base_uri": "https://localhost:8080/",
          "height": 317
        },
        "id": "LgidMeBOyahM",
        "outputId": "fd9d4352-5ecd-48a4-d9bf-e37e2b6a2d1f"
      },
      "execution_count": null,
      "outputs": [
        {
          "output_type": "stream",
          "name": "stdout",
          "text": [
            "MSEis: 3471.923196056966\n",
            "Weight: [945.4992184]\n",
            "Intercept: 152.33489819153206\n"
          ]
        },
        {
          "output_type": "display_data",
          "data": {
            "text/plain": [
              "<Figure size 432x288 with 1 Axes>"
            ],
            "image/png": "[encoded data removed]"
          },
          "metadata": {
            "needs_background": "light"
          }
        }
      ]
    }
  ]
}