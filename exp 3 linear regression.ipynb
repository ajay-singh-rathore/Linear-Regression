{
 "cells": [
  {
   "cell_type": "code",
   "execution_count": 10,
   "metadata": {},
   "outputs": [],
   "source": [
    "import pandas as pd\n",
    "from sklearn import linear_model\n",
    "from sklearn.metrics import mean_squared_error\n",
    "import numpy as np"
   ]
  },
  {
   "cell_type": "code",
   "execution_count": 11,
   "metadata": {},
   "outputs": [],
   "source": [
    "db_x=np.array([[1],[2],[3]])\n",
    "db_x_train=db_x\n",
    "db_x_test=db_x"
   ]
  },
  {
   "cell_type": "code",
   "execution_count": 12,
   "metadata": {},
   "outputs": [],
   "source": [
    "db_y_train=np.array([4,3,5])\n",
    "db_y_test=np.array([4,3,5])"
   ]
  },
  {
   "cell_type": "code",
   "execution_count": 13,
   "metadata": {},
   "outputs": [],
   "source": [
    "model=linear_model.LinearRegression()\n",
    "model.fit(db_x_train,db_y_train)\n",
    "db_y_predicted=model.predict(db_x_test)"
   ]
  },
  {
   "cell_type": "code",
   "execution_count": 14,
   "metadata": {},
   "outputs": [
    {
     "name": "stdout",
     "output_type": "stream",
     "text": [
      "MSEis :  0.5\n",
      "Weight :  [0.5]\n",
      "intercept :  3.0\n"
     ]
    }
   ],
   "source": [
    "print(\"MSEis : \",mean_squared_error(db_y_test,db_y_predicted))\n",
    "print(\"Weight : \",model.coef_)\n",
    "print(\"intercept : \",model.intercept_)"
   ]
  },
  {
   "cell_type": "markdown",
   "metadata": {},
   "source": [
    "### Linear Regression Implementation on Diabetes Dataset\n"
   ]
  },
  {
   "cell_type": "code",
   "execution_count": 15,
   "metadata": {},
   "outputs": [],
   "source": [
    "import matplotlib.pyplot as plt\n",
    "import numpy as np\n",
    "from sklearn import datasets, linear_model\n",
    "from sklearn.metrics import mean_squared_error\n"
   ]
  },
  {
   "cell_type": "code",
   "execution_count": 16,
   "metadata": {},
   "outputs": [],
   "source": [
    "import matplotlib.pyplot as plt\n",
    "import numpy as np\n",
    "from sklearn import datasets, linear_model\n",
    "from sklearn.metrics import mean_squared_error"
   ]
  },
  {
   "cell_type": "code",
   "execution_count": 17,
   "metadata": {},
   "outputs": [
    {
     "ename": "NameError",
     "evalue": "name 'db' is not defined",
     "output_type": "error",
     "traceback": [
      "\u001b[1;31m---------------------------------------------------------------------------\u001b[0m",
      "\u001b[1;31mNameError\u001b[0m                                 Traceback (most recent call last)",
      "\u001b[1;32mc:\\Users\\ajays\\OneDrive\\Desktop\\Play_ground\\ML\\exp 3 linear regression.ipynb Cell 9\u001b[0m in \u001b[0;36m<module>\u001b[1;34m\u001b[0m\n\u001b[0;32m      <a href='vscode-notebook-cell:/c%3A/Users/ajays/OneDrive/Desktop/Play_ground/ML/exp%203%20linear%20regression.ipynb#X11sZmlsZQ%3D%3D?line=0'>1</a>\u001b[0m db_x_train\u001b[39m=\u001b[39mdb_x[:\u001b[39m-\u001b[39m\u001b[39m50\u001b[39m]\n\u001b[0;32m      <a href='vscode-notebook-cell:/c%3A/Users/ajays/OneDrive/Desktop/Play_ground/ML/exp%203%20linear%20regression.ipynb#X11sZmlsZQ%3D%3D?line=1'>2</a>\u001b[0m db_x_test\u001b[39m=\u001b[39mdb_x[\u001b[39m-\u001b[39m\u001b[39m50\u001b[39m:]\n\u001b[1;32m----> <a href='vscode-notebook-cell:/c%3A/Users/ajays/OneDrive/Desktop/Play_ground/ML/exp%203%20linear%20regression.ipynb#X11sZmlsZQ%3D%3D?line=2'>3</a>\u001b[0m db_y_train\u001b[39m=\u001b[39mdb\u001b[39m.\u001b[39mtarget[:\u001b[39m-\u001b[39m\u001b[39m50\u001b[39m]\n\u001b[0;32m      <a href='vscode-notebook-cell:/c%3A/Users/ajays/OneDrive/Desktop/Play_ground/ML/exp%203%20linear%20regression.ipynb#X11sZmlsZQ%3D%3D?line=3'>4</a>\u001b[0m db_y_test\u001b[39m=\u001b[39mdb\u001b[39m.\u001b[39mtarget[\u001b[39m-\u001b[39m\u001b[39m50\u001b[39m:]\n",
      "\u001b[1;31mNameError\u001b[0m: name 'db' is not defined"
     ]
    }
   ],
   "source": [
    "db_x_train=db_x[:-50]\n",
    "db_x_test=db_x[-50:]\n",
    "db_y_train=db.target[:-50]\n",
    "db_y_test=db.target[-50:]\n"
   ]
  },
  {
   "cell_type": "code",
   "execution_count": null,
   "metadata": {},
   "outputs": [],
   "source": [
    "model=linear_model.LinearRegression()\n",
    "model.fit(db_x_train,db_y_train)\n",
    "db_y_predicted=model.predict(db_x_test)\n"
   ]
  },
  {
   "cell_type": "code",
   "execution_count": null,
   "metadata": {},
   "outputs": [
    {
     "name": "stdout",
     "output_type": "stream",
     "text": [
      "MSEis: 0.5\n",
      "Weight: [0.5]\n",
      "Intercept: 3.0\n"
     ]
    },
    {
     "data": {
      "image/png": "[encoded data removed]",
      "text/plain": [
       "<Figure size 432x288 with 1 Axes>"
      ]
     },
     "metadata": {
      "needs_background": "light"
     },
     "output_type": "display_data"
    }
   ],
   "source": [
    "print(\"MSEis:\",mean_squared_error(db_y_test,db_y_predicted))\n",
    "print(\"Weight:\",model.coef_)\n",
    "print(\"Intercept:\",model.intercept_)\n",
    "plt.scatter(db_x_test,db_y_test)\n",
    "plt.plot(db_x_test,db_y_predicted)\n",
    "plt.show()\n"
   ]
  },
  {
   "cell_type": "markdown",
   "metadata": {},
   "source": [
    "### Use case Implementation"
   ]
  },
  {
   "cell_type": "code",
   "execution_count": null,
   "metadata": {},
   "outputs": [
    {
     "ename": "ImportError",
     "evalue": "cannot import name 'digits' from 'sklearn' (c:\\Users\\ajays\\AppData\\Local\\Programs\\Python\\Python39\\lib\\site-packages\\sklearn\\__init__.py)",
     "output_type": "error",
     "traceback": [
      "\u001b[1;31m---------------------------------------------------------------------------\u001b[0m",
      "\u001b[1;31mImportError\u001b[0m                               Traceback (most recent call last)",
      "\u001b[1;32mc:\\Users\\ajays\\OneDrive\\Desktop\\Play_ground\\ML\\exp 3 linear regression.ipynb Cell 13\u001b[0m in \u001b[0;36m<module>\u001b[1;34m\u001b[0m\n\u001b[1;32m----> <a href='vscode-notebook-cell:/c%3A/Users/ajays/OneDrive/Desktop/Play_ground/ML/exp%203%20linear%20regression.ipynb#X14sZmlsZQ%3D%3D?line=0'>1</a>\u001b[0m \u001b[39mfrom\u001b[39;00m \u001b[39msklearn\u001b[39;00m \u001b[39mimport\u001b[39;00m digits\n\u001b[0;32m      <a href='vscode-notebook-cell:/c%3A/Users/ajays/OneDrive/Desktop/Play_ground/ML/exp%203%20linear%20regression.ipynb#X14sZmlsZQ%3D%3D?line=1'>2</a>\u001b[0m \u001b[39mfrom\u001b[39;00m \u001b[39msklearn\u001b[39;00m\u001b[39m.\u001b[39;00m\u001b[39mdatasets\u001b[39;00m \u001b[39mimport\u001b[39;00m load_digits\n\u001b[0;32m      <a href='vscode-notebook-cell:/c%3A/Users/ajays/OneDrive/Desktop/Play_ground/ML/exp%203%20linear%20regression.ipynb#X14sZmlsZQ%3D%3D?line=2'>3</a>\u001b[0m \u001b[39mfrom\u001b[39;00m \u001b[39msklearn\u001b[39;00m\u001b[39m.\u001b[39;00m\u001b[39mmodel_selection\u001b[39;00m \u001b[39mimport\u001b[39;00m train_test_split\n",
      "\u001b[1;31mImportError\u001b[0m: cannot import name 'digits' from 'sklearn' (c:\\Users\\ajays\\AppData\\Local\\Programs\\Python\\Python39\\lib\\site-packages\\sklearn\\__init__.py)"
     ]
    }
   ],
   "source": [
    "from sklearn import digits\n",
    "from sklearn.datasets import load_digits\n",
    "from sklearn.model_selection import train_test_split\n",
    "import numpy as np \n",
    "\n",
    "import matplotlib.pyplot as plt\n",
    "import seaborn as sns\n",
    "from sklearn import metrics\n",
    "%matplotlib inline\n",
    "digits =load_digits"
   ]
  },
  {
   "cell_type": "code",
   "execution_count": null,
   "metadata": {},
   "outputs": [
    {
     "ename": "AttributeError",
     "evalue": "'function' object has no attribute 'data'",
     "output_type": "error",
     "traceback": [
      "\u001b[1;31m---------------------------------------------------------------------------\u001b[0m",
      "\u001b[1;31mAttributeError\u001b[0m                            Traceback (most recent call last)",
      "\u001b[1;32mc:\\Users\\ajays\\OneDrive\\Desktop\\Play_ground\\ML\\exp 3 linear regression.ipynb Cell 14\u001b[0m in \u001b[0;36m<module>\u001b[1;34m\u001b[0m\n\u001b[1;32m----> <a href='vscode-notebook-cell:/c%3A/Users/ajays/OneDrive/Desktop/Play_ground/ML/exp%203%20linear%20regression.ipynb#X20sZmlsZQ%3D%3D?line=0'>1</a>\u001b[0m \u001b[39mprint\u001b[39m(\u001b[39m\"\u001b[39m\u001b[39mImage Data Shape : \u001b[39m\u001b[39m\"\u001b[39m,digits\u001b[39m.\u001b[39;49mdata\u001b[39m.\u001b[39mshape)\n\u001b[0;32m      <a href='vscode-notebook-cell:/c%3A/Users/ajays/OneDrive/Desktop/Play_ground/ML/exp%203%20linear%20regression.ipynb#X20sZmlsZQ%3D%3D?line=1'>2</a>\u001b[0m \u001b[39mprint\u001b[39m(\u001b[39m\"\u001b[39m\u001b[39mImage Data Shape : \u001b[39m\u001b[39m\"\u001b[39m,digits\u001b[39m.\u001b[39mtarget\u001b[39m.\u001b[39mshaprre)\n",
      "\u001b[1;31mAttributeError\u001b[0m: 'function' object has no attribute 'data'"
     ]
    }
   ],
   "source": [
    "print(\"Image Data Shape : \",digits.data.shape)\n",
    "print(\"Image Data Shape : \",digits.target.shaprre)\n"
   ]
  },
  {
   "cell_type": "code",
   "execution_count": null,
   "metadata": {},
   "outputs": [],
   "source": []
  }
 ],
 "metadata": {
  "kernelspec": {
   "display_name": "Python 3.9.9 64-bit",
   "language": "python",
   "name": "python3"
  },
  "language_info": {
   "codemirror_mode": {
    "name": "ipython",
    "version": 3
   },
   "file_extension": ".py",
   "mimetype": "text/x-python",
   "name": "python",
   "nbconvert_exporter": "python",
   "pygments_lexer": "ipython3",
   "version": "3.9.9"
  },
  "orig_nbformat": 4,
  "vscode": {
   "interpreter": {
    "hash": "30bb01b2eb4ae61cb70f2163fcb147e141de63cc6799ca8b622508820d2a0f0a"
   }
  }
 },
 "nbformat": 4,
 "nbformat_minor": 2
}
